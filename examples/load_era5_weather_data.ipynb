{
 "cells": [
  {
   "cell_type": "markdown",
   "metadata": {},
   "source": [
    "# Example for ERA5 weather data download\n",
    "\n",
    "This example shows you how to download ERA5 weather data from the [Climate Data Store (CDS)](https://cds.climate.copernicus.eu) and store it locally. Furthermore, it shows how to convert the weather data to the format needed by the `pvlib` and `windpowerlib`.\n",
    "\n",
    "In order to download ERA5 weather data you need an account at the [CDS](https://cds.climate.copernicus.eu).\n",
    "Furthermore, you need to install the cdsapi package. See [here](https://cds.climate.copernicus.eu/api-how-to) for installation details. \n",
    "\n",
    "When downloading the data using the API your request gets queued and may take a while to be completed. All actual calls of the data download are therefore commented to avoid unintended download. Instead, an example netcdf file is provided.\n",
    "\n",
    "* [Download data for single coordinate](#single_loc)\n",
    "* [Download data for a region](#region)\n",
    "* [Convert data into pvlib and windpowerlib format](#convert)\n"
   ]
  },
  {
   "cell_type": "code",
   "execution_count": 1,
   "metadata": {},
   "outputs": [],
   "source": [
    "from feedinlib import era5"
   ]
  },
  {
   "cell_type": "markdown",
   "metadata": {},
   "source": [
    "## Download data for single coordinate <a class=\"anchor\" id=\"single_loc\"></a>\n",
    "\n",
    "To download data for a single location you have to specify latitude and longitude of the desired location. Data will be retrieved for the nearest weather data point to that location."
   ]
  },
  {
   "cell_type": "code",
   "execution_count": 2,
   "metadata": {},
   "outputs": [],
   "source": [
    "latitude = 52.47\n",
    "longitude = 13.30"
   ]
  },
  {
   "cell_type": "markdown",
   "metadata": {},
   "source": [
    "Besides a location you have to specify a time period for which you would like to download the data as well as the weather variables you need. The feedinlib provides predefined sets of variables that are needed to use the pvlib and windpowerlib. These can be applied by setting the `variable` parameter to \"pvlib\" or \"windpowerlib\", as shown below. If you want to download data for both libraries you can set `variable` to \"feedinlib\".\n",
    "\n",
    "Concerning the start and end date, keep in mind that all timestamps in the `feedinlib` are in UTC. So if you later on want to convert the data to a different time zone, the data may not cover the whole period you intended to download. To avoid this set your start date to one day before the start of your required period if you are East of the zero meridian or your end date to one day after your required period ends if you are West of the zero meridian."
   ]
  },
  {
   "cell_type": "code",
   "execution_count": 3,
   "metadata": {},
   "outputs": [],
   "source": [
    "# set start and end date (end date will be included \n",
    "# in the time period for which data is downloaded)\n",
    "start_date, end_date = '2017-01-01', '2017-12-31'\n",
    "# set variable set to download\n",
    "variable = \"pvlib\""
   ]
  },
  {
   "cell_type": "markdown",
   "metadata": {},
   "source": [
    "If you want to store the downloaded data, which is recommended as download may take a while, you may provide a filename (including path) to save data to."
   ]
  },
  {
   "cell_type": "code",
   "execution_count": 4,
   "metadata": {},
   "outputs": [],
   "source": [
    "target_file = 'ERA5_pvlib_2017.nc'"
   ]
  },
  {
   "cell_type": "markdown",
   "metadata": {},
   "source": [
    "Now we can retrieve the data:\n",
    "\n",
    "```python\n",
    "# get windpowerlib data for specified location\n",
    "ds = era5.get_era5_data_from_datespan_and_position(\n",
    "    variable=variable,\n",
    "    start_date=start_date, end_date=end_date, \n",
    "    latitude=latitude, longitude=longitude,\n",
    "    target_file=target_file)\n",
    "```\n",
    "\n",
    "```bash\n",
    "2020-01-12 20:53:56,465 INFO Welcome to the CDS\n",
    "2020-01-12 20:53:56,469 INFO Sending request to https://cds.climate.copernicus.eu/api/v2/resources/reanalysis-era5-single-levels\n",
    "2020-01-12 20:53:57,023 INFO Request is queued\n",
    "2020-01-12 20:53:58,085 INFO Request is running\n",
    "2020-01-12 21:48:24,341 INFO Request is completed\n",
    "2020-01-12 21:48:24,344 INFO Downloading request for 5 variables to ERA5_pvlib_2017.nc\n",
    "2020-01-12 21:48:24,346 INFO Downloading http://136.156.132.153/cache-compute-0002/cache/data7/adaptor.mars.internal-1578858837.3774962-24514-9-8081d664-0a1e-48b9-951c-bc9b8e2caa44.nc to ERA5_pvlib_2017.nc (121.9K)\n",
    "2020-01-12 21:48:24,653 INFO Download rate 400.6K/s\n",
    "```"
   ]
  },
  {
   "cell_type": "markdown",
   "metadata": {},
   "source": [
    "## Download data for a region<a class=\"anchor\" id=\"region\"></a>\n",
    "\n",
    "When wanting to download weather data for a region instead of providing a single value for each latitude and longitude you have to provide latitude and longitude as lists in the following form:"
   ]
  },
  {
   "cell_type": "code",
   "execution_count": 5,
   "metadata": {},
   "outputs": [],
   "source": [
    "latitude = [52.3, 52.7]  # [latitude south, latitude north]\n",
    "longitude = [13.1, 13.6]  # [longitude west, longitude east]"
   ]
  },
  {
   "cell_type": "code",
   "execution_count": 6,
   "metadata": {},
   "outputs": [],
   "source": [
    "import os\n",
    "target_file = os.path.join('example_data', 'ERA5_example_data.nc')"
   ]
  },
  {
   "cell_type": "markdown",
   "metadata": {},
   "source": [
    "```python\n",
    "# get pvlib data for specified area\n",
    "ds_berlin = era5.get_era5_data_from_datespan_and_position(\n",
    "    variable=variable,\n",
    "    start_date=start_date, end_date=end_date, \n",
    "    latitude=latitude, longitude=longitude,\n",
    "    target_file=target_file)\n",
    "```\n",
    "\n",
    "```bash\n",
    "2020-01-12 22:55:35,301 INFO Download rate 1.6M/s \n",
    "2020-01-12 22:03:08,085 INFO Welcome to the CDS\n",
    "2020-01-12 22:03:08,086 INFO Sending request to https://cds.climate.copernicus.eu/api/v2/resources/reanalysis-era5-single-levels\n",
    "2020-01-12 22:03:08,756 INFO Request is queued\n",
    "2020-01-12 22:03:09,809 INFO Request is running\n",
    "2020-01-12 22:55:34,863 INFO Request is completed\n",
    "2020-01-12 22:55:34,864 INFO Downloading request for 5 variables to ERA5_example_data.nc\n",
    "2020-01-12 22:55:34,864 INFO Downloading http://136.156.132.235/cache-compute-0006/cache/data5/adaptor.mars.internal-1578862989.052999-21409-23-831562a8-e0b2-4b19-8463-e14931a3f630.nc to ERA5_example_data.nc (720.7K)\n",
    "```"
   ]
  },
  {
   "cell_type": "markdown",
   "metadata": {},
   "source": [
    "If you want weather data for the whole world, you may leave latitude and longitude unspecified. \n",
    "\n",
    "```python\n",
    "# get feedinlib data (includes pvlib and windpowerlib data)\n",
    "# for the whole world\n",
    "ds = era5.get_era5_data_from_datespan_and_position(\n",
    "    variable=\"feedinlib\",\n",
    "    start_date=start_date, end_date=end_date,\n",
    "    target_file=target_file)\n",
    "```"
   ]
  },
  {
   "cell_type": "markdown",
   "metadata": {},
   "source": [
    "## Convert data into pvlib and windpowerlib format<a class=\"anchor\" id=\"convert\"></a>\n",
    "\n",
    "In order to use the weather data for your feed-in calculations using the pvlib and windpowerlib it has to be converted into the required format. This section shows you how this is done. "
   ]
  },
  {
   "cell_type": "code",
   "execution_count": 7,
   "metadata": {},
   "outputs": [],
   "source": [
    "import os\n",
    "era5_netcdf_filename = os.path.join('example_data', 'ERA5_example_data.nc')"
   ]
  },
  {
   "cell_type": "code",
   "execution_count": 8,
   "metadata": {},
   "outputs": [
    {
     "data": {
      "text/html": [
       "<pre>&lt;xarray.Dataset&gt;\n",
       "Dimensions:    (latitude: 2, longitude: 3, time: 8760)\n",
       "Coordinates:\n",
       "  * longitude  (longitude) float32 13.1 13.35 13.6\n",
       "  * latitude   (latitude) float32 52.6 52.35\n",
       "  * time       (time) datetime64[ns] 2017-01-01 ... 2017-12-31T23:00:00\n",
       "Data variables:\n",
       "    u100       (time, latitude, longitude) float32 ...\n",
       "    v100       (time, latitude, longitude) float32 ...\n",
       "    fsr        (time, latitude, longitude) float32 ...\n",
       "    sp         (time, latitude, longitude) float32 ...\n",
       "    fdir       (time, latitude, longitude) float32 ...\n",
       "    ssrd       (time, latitude, longitude) float32 ...\n",
       "    t2m        (time, latitude, longitude) float32 ...\n",
       "    u10        (time, latitude, longitude) float32 ...\n",
       "    v10        (time, latitude, longitude) float32 ...\n",
       "Attributes:\n",
       "    Conventions:  CF-1.6\n",
       "    history:      2020-01-15 08:23:42 GMT by grib_to_netcdf-2.15.0: /opt/ecmw...</pre>"
      ],
      "text/plain": [
       "<xarray.Dataset>\n",
       "Dimensions:    (latitude: 2, longitude: 3, time: 8760)\n",
       "Coordinates:\n",
       "  * longitude  (longitude) float32 13.1 13.35 13.6\n",
       "  * latitude   (latitude) float32 52.6 52.35\n",
       "  * time       (time) datetime64[ns] 2017-01-01 ... 2017-12-31T23:00:00\n",
       "Data variables:\n",
       "    u100       (time, latitude, longitude) float32 ...\n",
       "    v100       (time, latitude, longitude) float32 ...\n",
       "    fsr        (time, latitude, longitude) float32 ...\n",
       "    sp         (time, latitude, longitude) float32 ...\n",
       "    fdir       (time, latitude, longitude) float32 ...\n",
       "    ssrd       (time, latitude, longitude) float32 ...\n",
       "    t2m        (time, latitude, longitude) float32 ...\n",
       "    u10        (time, latitude, longitude) float32 ...\n",
       "    v10        (time, latitude, longitude) float32 ...\n",
       "Attributes:\n",
       "    Conventions:  CF-1.6\n",
       "    history:      2020-01-15 08:23:42 GMT by grib_to_netcdf-2.15.0: /opt/ecmw..."
      ]
     },
     "execution_count": 8,
     "metadata": {},
     "output_type": "execute_result"
    }
   ],
   "source": [
    "# reimport downloaded data\n",
    "\n",
    "import xarray as xr\n",
    "\n",
    "ds = xr.open_dataset(era5_netcdf_filename)\n",
    "ds"
   ]
  },
  {
   "cell_type": "markdown",
   "metadata": {},
   "source": [
    "Let's first plot the downloaded weather data points on a map."
   ]
  },
  {
   "cell_type": "code",
   "execution_count": 9,
   "metadata": {},
   "outputs": [
    {
     "data": {
      "image/png": "[encoded data removed]",
      "text/plain": [
       "<Figure size 432x288 with 1 Axes>"
      ]
     },
     "metadata": {
      "needs_background": "light"
     },
     "output_type": "display_data"
    }
   ],
   "source": [
    "# get all weather data points in dataset\n",
    "from shapely.geometry import Point\n",
    "import geopandas as gpd\n",
    "\n",
    "points = []\n",
    "for x in ds.longitude:\n",
    "    for y in ds.latitude:\n",
    "        points.append(Point(x, y))\n",
    "points_df = gpd.GeoDataFrame({'geometry': points})\n",
    "\n",
    "# read provided shape file\n",
    "region_shape = gpd.read_file('berlin_shape.geojson')\n",
    "\n",
    "# plot weather data points on map\n",
    "base = region_shape.plot(color='white', edgecolor='black')\n",
    "points_df.plot(ax=base, marker='o', color='red', markersize=5);"
   ]
  },
  {
   "cell_type": "markdown",
   "metadata": {},
   "source": [
    "Now let's convert the weather data to the pvlib format."
   ]
  },
  {
   "cell_type": "markdown",
   "metadata": {},
   "source": [
    "With the `area` parameter you can specify wether you want to retrieve weather dataframes for a single location, a region within the downloaded region or the whole downloaded region.\n",
    "In case `area` is not a single location, the index of the resulting dataframe will be a multiindex with levels (time, latitude, longitude). Be aware that in order to use it for pvlib or windpowerlib calculations you need to select a **single location**."
   ]
  },
  {
   "cell_type": "code",
   "execution_count": 10,
   "metadata": {},
   "outputs": [
    {
     "data": {
      "text/html": [
       "<div>\n",
       "<style scoped>\n",
       "    .dataframe tbody tr th:only-of-type {\n",
       "        vertical-align: middle;\n",
       "    }\n",
       "\n",
       "    .dataframe tbody tr th {\n",
       "        vertical-align: top;\n",
       "    }\n",
       "\n",
       "    .dataframe thead th {\n",
       "        text-align: right;\n",
       "    }\n",
       "</style>\n",
       "<table border=\"1\" class=\"dataframe\">\n",
       "  <thead>\n",
       "    <tr style=\"text-align: right;\">\n",
       "      <th></th>\n",
       "      <th>wind_speed</th>\n",
       "      <th>temp_air</th>\n",
       "      <th>ghi</th>\n",
       "      <th>dhi</th>\n",
       "    </tr>\n",
       "    <tr>\n",
       "      <th>time</th>\n",
       "      <th></th>\n",
       "      <th></th>\n",
       "      <th></th>\n",
       "      <th></th>\n",
       "    </tr>\n",
       "  </thead>\n",
       "  <tbody>\n",
       "    <tr>\n",
       "      <th>2016-12-31 23:30:00+00:00</th>\n",
       "      <td>4.121585</td>\n",
       "      <td>2.118927</td>\n",
       "      <td>0.0</td>\n",
       "      <td>0.0</td>\n",
       "    </tr>\n",
       "    <tr>\n",
       "      <th>2017-01-01 00:30:00+00:00</th>\n",
       "      <td>4.163627</td>\n",
       "      <td>2.007660</td>\n",
       "      <td>0.0</td>\n",
       "      <td>0.0</td>\n",
       "    </tr>\n",
       "    <tr>\n",
       "      <th>2017-01-01 01:30:00+00:00</th>\n",
       "      <td>4.100729</td>\n",
       "      <td>1.931793</td>\n",
       "      <td>0.0</td>\n",
       "      <td>0.0</td>\n",
       "    </tr>\n",
       "    <tr>\n",
       "      <th>2017-01-01 02:30:00+00:00</th>\n",
       "      <td>4.079637</td>\n",
       "      <td>1.808319</td>\n",
       "      <td>0.0</td>\n",
       "      <td>0.0</td>\n",
       "    </tr>\n",
       "    <tr>\n",
       "      <th>2017-01-01 03:30:00+00:00</th>\n",
       "      <td>4.123112</td>\n",
       "      <td>1.748505</td>\n",
       "      <td>0.0</td>\n",
       "      <td>0.0</td>\n",
       "    </tr>\n",
       "  </tbody>\n",
       "</table>\n",
       "</div>"
      ],
      "text/plain": [
       "                           wind_speed  temp_air  ghi  dhi\n",
       "time                                                     \n",
       "2016-12-31 23:30:00+00:00    4.121585  2.118927  0.0  0.0\n",
       "2017-01-01 00:30:00+00:00    4.163627  2.007660  0.0  0.0\n",
       "2017-01-01 01:30:00+00:00    4.100729  1.931793  0.0  0.0\n",
       "2017-01-01 02:30:00+00:00    4.079637  1.808319  0.0  0.0\n",
       "2017-01-01 03:30:00+00:00    4.123112  1.748505  0.0  0.0"
      ]
     },
     "execution_count": 10,
     "metadata": {},
     "output_type": "execute_result"
    }
   ],
   "source": [
    "# for single location (as list of longitude and latitude)\n",
    "single_location = [13.2, 52.4]\n",
    "pvlib_df = era5.weather_df_from_era5(\n",
    "    era5_netcdf_filename=era5_netcdf_filename,\n",
    "    lib='pvlib',\n",
    "    area=single_location)\n",
    "pvlib_df.head()"
   ]
  },
  {
   "cell_type": "code",
   "execution_count": 11,
   "metadata": {},
   "outputs": [
    {
     "data": {
      "text/html": [
       "<div>\n",
       "<style scoped>\n",
       "    .dataframe tbody tr th:only-of-type {\n",
       "        vertical-align: middle;\n",
       "    }\n",
       "\n",
       "    .dataframe tbody tr th {\n",
       "        vertical-align: top;\n",
       "    }\n",
       "\n",
       "    .dataframe thead th {\n",
       "        text-align: right;\n",
       "    }\n",
       "</style>\n",
       "<table border=\"1\" class=\"dataframe\">\n",
       "  <thead>\n",
       "    <tr style=\"text-align: right;\">\n",
       "      <th></th>\n",
       "      <th></th>\n",
       "      <th></th>\n",
       "      <th>wind_speed</th>\n",
       "      <th>temp_air</th>\n",
       "      <th>ghi</th>\n",
       "      <th>dhi</th>\n",
       "    </tr>\n",
       "    <tr>\n",
       "      <th>time</th>\n",
       "      <th>latitude</th>\n",
       "      <th>longitude</th>\n",
       "      <th></th>\n",
       "      <th></th>\n",
       "      <th></th>\n",
       "      <th></th>\n",
       "    </tr>\n",
       "  </thead>\n",
       "  <tbody>\n",
       "    <tr>\n",
       "      <th rowspan=\"5\" valign=\"top\">2016-12-31 23:30:00+00:00</th>\n",
       "      <th rowspan=\"3\" valign=\"top\">52.349998</th>\n",
       "      <th>13.10</th>\n",
       "      <td>4.121585</td>\n",
       "      <td>2.118927</td>\n",
       "      <td>0.0</td>\n",
       "      <td>0.0</td>\n",
       "    </tr>\n",
       "    <tr>\n",
       "      <th>13.35</th>\n",
       "      <td>4.101637</td>\n",
       "      <td>1.987091</td>\n",
       "      <td>0.0</td>\n",
       "      <td>0.0</td>\n",
       "    </tr>\n",
       "    <tr>\n",
       "      <th>13.60</th>\n",
       "      <td>4.169553</td>\n",
       "      <td>1.758789</td>\n",
       "      <td>0.0</td>\n",
       "      <td>0.0</td>\n",
       "    </tr>\n",
       "    <tr>\n",
       "      <th rowspan=\"2\" valign=\"top\">52.599998</th>\n",
       "      <th>13.10</th>\n",
       "      <td>4.152351</td>\n",
       "      <td>2.745270</td>\n",
       "      <td>0.0</td>\n",
       "      <td>0.0</td>\n",
       "    </tr>\n",
       "    <tr>\n",
       "      <th>13.35</th>\n",
       "      <td>4.228467</td>\n",
       "      <td>2.489319</td>\n",
       "      <td>0.0</td>\n",
       "      <td>0.0</td>\n",
       "    </tr>\n",
       "  </tbody>\n",
       "</table>\n",
       "</div>"
      ],
      "text/plain": [
       "                                               wind_speed  temp_air  ghi  dhi\n",
       "time                      latitude  longitude                                \n",
       "2016-12-31 23:30:00+00:00 52.349998 13.10        4.121585  2.118927  0.0  0.0\n",
       "                                    13.35        4.101637  1.987091  0.0  0.0\n",
       "                                    13.60        4.169553  1.758789  0.0  0.0\n",
       "                          52.599998 13.10        4.152351  2.745270  0.0  0.0\n",
       "                                    13.35        4.228467  2.489319  0.0  0.0"
      ]
     },
     "execution_count": 11,
     "metadata": {},
     "output_type": "execute_result"
    }
   ],
   "source": [
    "# for whole region\n",
    "era5.weather_df_from_era5(\n",
    "    era5_netcdf_filename=era5_netcdf_filename,\n",
    "    lib='pvlib').head()"
   ]
  },
  {
   "cell_type": "code",
   "execution_count": 12,
   "metadata": {},
   "outputs": [
    {
     "data": {
      "text/html": [
       "<div>\n",
       "<style scoped>\n",
       "    .dataframe tbody tr th:only-of-type {\n",
       "        vertical-align: middle;\n",
       "    }\n",
       "\n",
       "    .dataframe tbody tr th {\n",
       "        vertical-align: top;\n",
       "    }\n",
       "\n",
       "    .dataframe thead th {\n",
       "        text-align: right;\n",
       "    }\n",
       "</style>\n",
       "<table border=\"1\" class=\"dataframe\">\n",
       "  <thead>\n",
       "    <tr style=\"text-align: right;\">\n",
       "      <th></th>\n",
       "      <th></th>\n",
       "      <th></th>\n",
       "      <th>wind_speed</th>\n",
       "      <th>temp_air</th>\n",
       "      <th>ghi</th>\n",
       "      <th>dhi</th>\n",
       "    </tr>\n",
       "    <tr>\n",
       "      <th>time</th>\n",
       "      <th>latitude</th>\n",
       "      <th>longitude</th>\n",
       "      <th></th>\n",
       "      <th></th>\n",
       "      <th></th>\n",
       "      <th></th>\n",
       "    </tr>\n",
       "  </thead>\n",
       "  <tbody>\n",
       "    <tr>\n",
       "      <th rowspan=\"2\" valign=\"top\">2016-12-31 23:30:00+00:00</th>\n",
       "      <th rowspan=\"2\" valign=\"top\">52.599998</th>\n",
       "      <th>13.35</th>\n",
       "      <td>4.228467</td>\n",
       "      <td>2.489319</td>\n",
       "      <td>0.0</td>\n",
       "      <td>0.0</td>\n",
       "    </tr>\n",
       "    <tr>\n",
       "      <th>13.60</th>\n",
       "      <td>4.326597</td>\n",
       "      <td>2.234680</td>\n",
       "      <td>0.0</td>\n",
       "      <td>0.0</td>\n",
       "    </tr>\n",
       "    <tr>\n",
       "      <th rowspan=\"2\" valign=\"top\">2017-01-01 00:30:00+00:00</th>\n",
       "      <th rowspan=\"2\" valign=\"top\">52.599998</th>\n",
       "      <th>13.35</th>\n",
       "      <td>4.350266</td>\n",
       "      <td>2.461670</td>\n",
       "      <td>0.0</td>\n",
       "      <td>0.0</td>\n",
       "    </tr>\n",
       "    <tr>\n",
       "      <th>13.60</th>\n",
       "      <td>4.482446</td>\n",
       "      <td>2.222443</td>\n",
       "      <td>0.0</td>\n",
       "      <td>0.0</td>\n",
       "    </tr>\n",
       "    <tr>\n",
       "      <th>2017-01-01 01:30:00+00:00</th>\n",
       "      <th>52.599998</th>\n",
       "      <th>13.35</th>\n",
       "      <td>4.323196</td>\n",
       "      <td>2.482239</td>\n",
       "      <td>0.0</td>\n",
       "      <td>0.0</td>\n",
       "    </tr>\n",
       "  </tbody>\n",
       "</table>\n",
       "</div>"
      ],
      "text/plain": [
       "                                               wind_speed  temp_air  ghi  dhi\n",
       "time                      latitude  longitude                                \n",
       "2016-12-31 23:30:00+00:00 52.599998 13.35        4.228467  2.489319  0.0  0.0\n",
       "                                    13.60        4.326597  2.234680  0.0  0.0\n",
       "2017-01-01 00:30:00+00:00 52.599998 13.35        4.350266  2.461670  0.0  0.0\n",
       "                                    13.60        4.482446  2.222443  0.0  0.0\n",
       "2017-01-01 01:30:00+00:00 52.599998 13.35        4.323196  2.482239  0.0  0.0"
      ]
     },
     "execution_count": 12,
     "metadata": {},
     "output_type": "execute_result"
    }
   ],
   "source": [
    "# specify rectangular area\n",
    "area = [(13.2, 13.7), (52.4, 52.8)]\n",
    "era5.weather_df_from_era5(\n",
    "    era5_netcdf_filename=era5_netcdf_filename,\n",
    "    lib='pvlib',\n",
    "    area=area).head()"
   ]
  },
  {
   "cell_type": "code",
   "execution_count": 13,
   "metadata": {},
   "outputs": [
    {
     "data": {
      "text/html": [
       "<div>\n",
       "<style scoped>\n",
       "    .dataframe tbody tr th:only-of-type {\n",
       "        vertical-align: middle;\n",
       "    }\n",
       "\n",
       "    .dataframe tbody tr th {\n",
       "        vertical-align: top;\n",
       "    }\n",
       "\n",
       "    .dataframe thead th {\n",
       "        text-align: right;\n",
       "    }\n",
       "</style>\n",
       "<table border=\"1\" class=\"dataframe\">\n",
       "  <thead>\n",
       "    <tr style=\"text-align: right;\">\n",
       "      <th></th>\n",
       "      <th></th>\n",
       "      <th></th>\n",
       "      <th>wind_speed</th>\n",
       "      <th>temp_air</th>\n",
       "      <th>ghi</th>\n",
       "      <th>dhi</th>\n",
       "    </tr>\n",
       "    <tr>\n",
       "      <th>time</th>\n",
       "      <th>latitude</th>\n",
       "      <th>longitude</th>\n",
       "      <th></th>\n",
       "      <th></th>\n",
       "      <th></th>\n",
       "      <th></th>\n",
       "    </tr>\n",
       "  </thead>\n",
       "  <tbody>\n",
       "    <tr>\n",
       "      <th rowspan=\"3\" valign=\"top\">2016-12-31 23:30:00+00:00</th>\n",
       "      <th rowspan=\"2\" valign=\"top\">52.349998</th>\n",
       "      <th>13.10</th>\n",
       "      <td>4.121585</td>\n",
       "      <td>2.118927</td>\n",
       "      <td>0.0</td>\n",
       "      <td>0.0</td>\n",
       "    </tr>\n",
       "    <tr>\n",
       "      <th>13.35</th>\n",
       "      <td>4.101637</td>\n",
       "      <td>1.987091</td>\n",
       "      <td>0.0</td>\n",
       "      <td>0.0</td>\n",
       "    </tr>\n",
       "    <tr>\n",
       "      <th>52.599998</th>\n",
       "      <th>13.35</th>\n",
       "      <td>4.228467</td>\n",
       "      <td>2.489319</td>\n",
       "      <td>0.0</td>\n",
       "      <td>0.0</td>\n",
       "    </tr>\n",
       "    <tr>\n",
       "      <th rowspan=\"2\" valign=\"top\">2017-01-01 00:30:00+00:00</th>\n",
       "      <th rowspan=\"2\" valign=\"top\">52.349998</th>\n",
       "      <th>13.10</th>\n",
       "      <td>4.163627</td>\n",
       "      <td>2.007660</td>\n",
       "      <td>0.0</td>\n",
       "      <td>0.0</td>\n",
       "    </tr>\n",
       "    <tr>\n",
       "      <th>13.35</th>\n",
       "      <td>4.189184</td>\n",
       "      <td>1.882263</td>\n",
       "      <td>0.0</td>\n",
       "      <td>0.0</td>\n",
       "    </tr>\n",
       "  </tbody>\n",
       "</table>\n",
       "</div>"
      ],
      "text/plain": [
       "                                               wind_speed  temp_air  ghi  dhi\n",
       "time                      latitude  longitude                                \n",
       "2016-12-31 23:30:00+00:00 52.349998 13.10        4.121585  2.118927  0.0  0.0\n",
       "                                    13.35        4.101637  1.987091  0.0  0.0\n",
       "                          52.599998 13.35        4.228467  2.489319  0.0  0.0\n",
       "2017-01-01 00:30:00+00:00 52.349998 13.10        4.163627  2.007660  0.0  0.0\n",
       "                                    13.35        4.189184  1.882263  0.0  0.0"
      ]
     },
     "execution_count": 13,
     "metadata": {},
     "output_type": "execute_result"
    }
   ],
   "source": [
    "# specify area giving a Polygon\n",
    "from shapely.geometry import Polygon\n",
    "lat_point_list = [52.3, 52.3, 52.65]\n",
    "lon_point_list = [13.0, 13.4, 13.4]\n",
    "area = Polygon(zip(lon_point_list, lat_point_list))\n",
    "era5.weather_df_from_era5(\n",
    "    era5_netcdf_filename=era5_netcdf_filename,\n",
    "    lib='pvlib',\n",
    "    area=area).head()"
   ]
  },
  {
   "cell_type": "code",
   "execution_count": 16,
   "metadata": {},
   "outputs": [],
   "source": [
    "# export to csv\n",
    "pvlib_df.to_csv('pvlib_df_ERA5.csv')"
   ]
  },
  {
   "cell_type": "markdown",
   "metadata": {},
   "source": [
    "The conversion to the windpowerlib format is analog to the pvlib conversion."
   ]
  },
  {
   "cell_type": "code",
   "execution_count": 17,
   "metadata": {},
   "outputs": [
    {
     "data": {
      "text/html": [
       "<div>\n",
       "<style scoped>\n",
       "    .dataframe tbody tr th:only-of-type {\n",
       "        vertical-align: middle;\n",
       "    }\n",
       "\n",
       "    .dataframe tbody tr th {\n",
       "        vertical-align: top;\n",
       "    }\n",
       "\n",
       "    .dataframe thead tr th {\n",
       "        text-align: left;\n",
       "    }\n",
       "\n",
       "    .dataframe thead tr:last-of-type th {\n",
       "        text-align: right;\n",
       "    }\n",
       "</style>\n",
       "<table border=\"1\" class=\"dataframe\">\n",
       "  <thead>\n",
       "    <tr>\n",
       "      <th>variable</th>\n",
       "      <th colspan=\"2\" halign=\"left\">wind_speed</th>\n",
       "      <th>pressure</th>\n",
       "      <th>temperature</th>\n",
       "      <th>roughness_length</th>\n",
       "    </tr>\n",
       "    <tr>\n",
       "      <th>height</th>\n",
       "      <th>10</th>\n",
       "      <th>100</th>\n",
       "      <th>0</th>\n",
       "      <th>2</th>\n",
       "      <th>0</th>\n",
       "    </tr>\n",
       "    <tr>\n",
       "      <th>time</th>\n",
       "      <th></th>\n",
       "      <th></th>\n",
       "      <th></th>\n",
       "      <th></th>\n",
       "      <th></th>\n",
       "    </tr>\n",
       "  </thead>\n",
       "  <tbody>\n",
       "    <tr>\n",
       "      <th>2016-12-31 23:00:00+00:00</th>\n",
       "      <td>4.121585</td>\n",
       "      <td>7.630205</td>\n",
       "      <td>101724.648438</td>\n",
       "      <td>275.268921</td>\n",
       "      <td>0.700549</td>\n",
       "    </tr>\n",
       "    <tr>\n",
       "      <th>2017-01-01 00:00:00+00:00</th>\n",
       "      <td>4.163627</td>\n",
       "      <td>7.771536</td>\n",
       "      <td>101651.937500</td>\n",
       "      <td>275.157654</td>\n",
       "      <td>0.700506</td>\n",
       "    </tr>\n",
       "    <tr>\n",
       "      <th>2017-01-01 01:00:00+00:00</th>\n",
       "      <td>4.100729</td>\n",
       "      <td>7.626108</td>\n",
       "      <td>101596.093750</td>\n",
       "      <td>275.081787</td>\n",
       "      <td>0.700445</td>\n",
       "    </tr>\n",
       "    <tr>\n",
       "      <th>2017-01-01 02:00:00+00:00</th>\n",
       "      <td>4.079637</td>\n",
       "      <td>7.683256</td>\n",
       "      <td>101518.140625</td>\n",
       "      <td>274.958313</td>\n",
       "      <td>0.700402</td>\n",
       "    </tr>\n",
       "    <tr>\n",
       "      <th>2017-01-01 03:00:00+00:00</th>\n",
       "      <td>4.123112</td>\n",
       "      <td>7.773755</td>\n",
       "      <td>101432.914062</td>\n",
       "      <td>274.898499</td>\n",
       "      <td>0.700367</td>\n",
       "    </tr>\n",
       "  </tbody>\n",
       "</table>\n",
       "</div>"
      ],
      "text/plain": [
       "variable                  wind_speed                 pressure temperature  \\\n",
       "height                           10        100            0           2     \n",
       "time                                                                        \n",
       "2016-12-31 23:00:00+00:00   4.121585  7.630205  101724.648438  275.268921   \n",
       "2017-01-01 00:00:00+00:00   4.163627  7.771536  101651.937500  275.157654   \n",
       "2017-01-01 01:00:00+00:00   4.100729  7.626108  101596.093750  275.081787   \n",
       "2017-01-01 02:00:00+00:00   4.079637  7.683256  101518.140625  274.958313   \n",
       "2017-01-01 03:00:00+00:00   4.123112  7.773755  101432.914062  274.898499   \n",
       "\n",
       "variable                  roughness_length  \n",
       "height                                 0    \n",
       "time                                        \n",
       "2016-12-31 23:00:00+00:00         0.700549  \n",
       "2017-01-01 00:00:00+00:00         0.700506  \n",
       "2017-01-01 01:00:00+00:00         0.700445  \n",
       "2017-01-01 02:00:00+00:00         0.700402  \n",
       "2017-01-01 03:00:00+00:00         0.700367  "
      ]
     },
     "execution_count": 17,
     "metadata": {},
     "output_type": "execute_result"
    }
   ],
   "source": [
    "# for whole region\n",
    "windpowerlib_df = era5.weather_df_from_era5(\n",
    "    era5_netcdf_filename=era5_netcdf_filename,\n",
    "    lib='windpowerlib',\n",
    "    area=single_location)\n",
    "windpowerlib_df.head()"
   ]
  },
  {
   "cell_type": "markdown",
   "metadata": {},
   "source": [
    "Furthermore, it is possible to specify a start and end date to retrieve data for. They must be provided as something that can be converted to a timestamp, i.e. '2013-07-02'."
   ]
  },
  {
   "cell_type": "code",
   "execution_count": 21,
   "metadata": {},
   "outputs": [
    {
     "data": {
      "text/html": [
       "<div>\n",
       "<style scoped>\n",
       "    .dataframe tbody tr th:only-of-type {\n",
       "        vertical-align: middle;\n",
       "    }\n",
       "\n",
       "    .dataframe tbody tr th {\n",
       "        vertical-align: top;\n",
       "    }\n",
       "\n",
       "    .dataframe thead th {\n",
       "        text-align: right;\n",
       "    }\n",
       "</style>\n",
       "<table border=\"1\" class=\"dataframe\">\n",
       "  <thead>\n",
       "    <tr style=\"text-align: right;\">\n",
       "      <th></th>\n",
       "      <th>wind_speed</th>\n",
       "      <th>temp_air</th>\n",
       "      <th>ghi</th>\n",
       "      <th>dhi</th>\n",
       "    </tr>\n",
       "    <tr>\n",
       "      <th>time</th>\n",
       "      <th></th>\n",
       "      <th></th>\n",
       "      <th></th>\n",
       "      <th></th>\n",
       "    </tr>\n",
       "  </thead>\n",
       "  <tbody>\n",
       "    <tr>\n",
       "      <th>2017-07-01 00:30:00+00:00</th>\n",
       "      <td>3.309819</td>\n",
       "      <td>14.204041</td>\n",
       "      <td>0.000000</td>\n",
       "      <td>0.000000</td>\n",
       "    </tr>\n",
       "    <tr>\n",
       "      <th>2017-07-01 01:30:00+00:00</th>\n",
       "      <td>3.462380</td>\n",
       "      <td>13.834900</td>\n",
       "      <td>0.000000</td>\n",
       "      <td>0.000000</td>\n",
       "    </tr>\n",
       "    <tr>\n",
       "      <th>2017-07-01 02:30:00+00:00</th>\n",
       "      <td>3.371482</td>\n",
       "      <td>13.832336</td>\n",
       "      <td>0.039410</td>\n",
       "      <td>0.039410</td>\n",
       "    </tr>\n",
       "    <tr>\n",
       "      <th>2017-07-01 03:30:00+00:00</th>\n",
       "      <td>3.314813</td>\n",
       "      <td>13.986023</td>\n",
       "      <td>16.395382</td>\n",
       "      <td>16.229132</td>\n",
       "    </tr>\n",
       "    <tr>\n",
       "      <th>2017-07-01 04:30:00+00:00</th>\n",
       "      <td>3.459977</td>\n",
       "      <td>14.591156</td>\n",
       "      <td>72.005661</td>\n",
       "      <td>65.997398</td>\n",
       "    </tr>\n",
       "  </tbody>\n",
       "</table>\n",
       "</div>"
      ],
      "text/plain": [
       "                           wind_speed   temp_air        ghi        dhi\n",
       "time                                                                  \n",
       "2017-07-01 00:30:00+00:00    3.309819  14.204041   0.000000   0.000000\n",
       "2017-07-01 01:30:00+00:00    3.462380  13.834900   0.000000   0.000000\n",
       "2017-07-01 02:30:00+00:00    3.371482  13.832336   0.039410   0.039410\n",
       "2017-07-01 03:30:00+00:00    3.314813  13.986023  16.395382  16.229132\n",
       "2017-07-01 04:30:00+00:00    3.459977  14.591156  72.005661  65.997398"
      ]
     },
     "execution_count": 21,
     "metadata": {},
     "output_type": "execute_result"
    }
   ],
   "source": [
    "# get weather data in pvlib format for July\n",
    "start = '2017-07-01'\n",
    "end = '2017-07-31'\n",
    "era5.weather_df_from_era5(\n",
    "    era5_netcdf_filename=era5_netcdf_filename,\n",
    "    lib='pvlib', \n",
    "    area=single_location, \n",
    "    start=start, \n",
    "    end=end).head()"
   ]
  },
  {
   "cell_type": "markdown",
   "metadata": {},
   "source": [
    "The following shows you in short how to use the weather data for feed-in calculations and mainly serves as a test wether the conversion works correctly. More detailed explanation on feed-in calculations using the feedinlib can be found in the notebooks `run_pvlib_model.ipynb` and `run_windpowerlib_turbine_model.ipynb`."
   ]
  },
  {
   "cell_type": "code",
   "execution_count": 19,
   "metadata": {},
   "outputs": [
    {
     "name": "stderr",
     "output_type": "stream",
     "text": [
      "/home/birgit/virtualenvs/feedinlib_openmod/lib/python3.6/site-packages/pvlib/pvsystem.py:1685: RuntimeWarning: effective_irradiance inputs appear to be in suns. Units changed in v0.7 from suns to W/m2\n",
      "  RuntimeWarning)\n"
     ]
    },
    {
     "data": {
      "text/plain": [
       "<matplotlib.axes._subplots.AxesSubplot at 0x7fcc983002b0>"
      ]
     },
     "execution_count": 19,
     "metadata": {},
     "output_type": "execute_result"
    },
    {
     "data": {
      "image/png": "[encoded data removed]",
      "text/plain": [
       "<Figure size 432x288 with 1 Axes>"
      ]
     },
     "metadata": {
      "needs_background": "light"
     },
     "output_type": "display_data"
    }
   ],
   "source": [
    "from feedinlib import Photovoltaic\n",
    "system_data = {\n",
    "    'module_name': 'Advent_Solar_Ventura_210___2008_', \n",
    "    'inverter_name': 'ABB__MICRO_0_25_I_OUTD_US_208__208V_',\n",
    "    'azimuth': 180,\n",
    "    'tilt': 30,\n",
    "    'albedo': 0.2}\n",
    "pv_system = Photovoltaic(**system_data)\n",
    "feedin = pv_system.feedin(\n",
    "    weather=pvlib_df,\n",
    "    location=(52.4, 13.2))\n",
    "feedin.plot()"
   ]
  },
  {
   "cell_type": "code",
   "execution_count": 20,
   "metadata": {},
   "outputs": [
    {
     "name": "stderr",
     "output_type": "stream",
     "text": [
      "/home/birgit/virtualenvs/feedinlib_openmod/lib/python3.6/site-packages/pandas/core/arrays/datetimes.py:1269: UserWarning: Converting to PeriodArray/Index representation will drop timezone information.\n",
      "  UserWarning,\n"
     ]
    },
    {
     "data": {
      "text/plain": [
       "<matplotlib.axes._subplots.AxesSubplot at 0x7fcc9422b748>"
      ]
     },
     "execution_count": 20,
     "metadata": {},
     "output_type": "execute_result"
    },
    {
     "data": {
      "image/png": "[encoded data removed]",
      "text/plain": [
       "<Figure size 432x288 with 1 Axes>"
      ]
     },
     "metadata": {
      "needs_background": "light"
     },
     "output_type": "display_data"
    }
   ],
   "source": [
    "from feedinlib import WindPowerPlant\n",
    "turbine_data = {\n",
    "    'turbine_type': 'E-101/3050',\n",
    "    'hub_height': 135\n",
    "    }\n",
    "wind_turbine = WindPowerPlant(**turbine_data)\n",
    "feedin = wind_turbine.feedin(\n",
    "    weather=windpowerlib_df)\n",
    "feedin.plot()"
   ]
  },
  {
   "cell_type": "code",
   "execution_count": null,
   "metadata": {},
   "outputs": [],
   "source": []
  }
 ],
 "metadata": {
  "kernelspec": {
   "display_name": "Python 3",
   "language": "python",
   "name": "python3"
  },
  "language_info": {
   "codemirror_mode": {
    "name": "ipython",
    "version": 3
   },
   "file_extension": ".py",
   "mimetype": "text/x-python",
   "name": "python",
   "nbconvert_exporter": "python",
   "pygments_lexer": "ipython3",
   "version": "3.7.3"
  }
 },
 "nbformat": 4,
 "nbformat_minor": 2
}
