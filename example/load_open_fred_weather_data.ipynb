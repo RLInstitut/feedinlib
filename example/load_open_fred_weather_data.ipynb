{
 "cells": [
  {
   "cell_type": "markdown",
   "metadata": {},
   "source": [
    "# Example for open_FRED weather data download\n",
    "\n",
    "This example shows you how to download open_FRED weather data from the [OpenEnergy DataBase](https://openenergy-platform.org/dataedit/) and store it locally. Furthermore, it shows how to convert the weather data to the format needed by the pvlib and windpowerlib."
   ]
  },
  {
   "cell_type": "code",
   "execution_count": 1,
   "metadata": {},
   "outputs": [],
   "source": [
    "# imports\n",
    "from shapely.geometry import Point, Polygon\n",
    "\n",
    "from feedinlib.db import Weather\n",
    "from feedinlib.db import defaultdb"
   ]
  },
  {
   "cell_type": "markdown",
   "metadata": {},
   "source": [
    "## Download data for single coordinate"
   ]
  },
  {
   "cell_type": "code",
   "execution_count": 2,
   "metadata": {},
   "outputs": [],
   "source": [
    "location = Point(13.5, 52.4)"
   ]
  },
  {
   "cell_type": "markdown",
   "metadata": {},
   "source": [
    "Besides a location you have to specify a time period for which you would like to download the data as well as the weather variables you need. The feedinlib provides predefined sets of variables that are needed to use the pvlib and windpowerlib. These can be applied by setting the `variables` parameter to \"pvlib\" or \"windpowerlib\", as shown below."
   ]
  },
  {
   "cell_type": "code",
   "execution_count": 3,
   "metadata": {},
   "outputs": [],
   "source": [
    "# download data for January 2015 (end date will not be included in the \n",
    "# time period for which data is downloaded)\n",
    "start_date, end_date = '2015-01-01', '2015-02-01'\n",
    "variables = \"windpowerlib\""
   ]
  },
  {
   "cell_type": "markdown",
   "metadata": {},
   "source": [
    "As the open_FRED weather dataset provides some variables at different heights, such as wind speed and air pressure, it is possible to define which heights you want to retrieve the data for."
   ]
  },
  {
   "cell_type": "code",
   "execution_count": 4,
   "metadata": {},
   "outputs": [],
   "source": [
    "heights = [80, 100]"
   ]
  },
  {
   "cell_type": "markdown",
   "metadata": {},
   "source": [
    "Now we can retrieve the data:"
   ]
  },
  {
   "cell_type": "code",
   "execution_count": 5,
   "metadata": {},
   "outputs": [],
   "source": [
    "open_FRED_weather_windpowerlib = Weather(\n",
    "    start=start_date, stop=end_date, locations=[location],\n",
    "    heights=heights,\n",
    "    variables=variables,\n",
    "    **defaultdb())"
   ]
  },
  {
   "cell_type": "markdown",
   "metadata": {},
   "source": [
    "## Download data for a region"
   ]
  },
  {
   "cell_type": "code",
   "execution_count": 6,
   "metadata": {},
   "outputs": [],
   "source": [
    "lat_point_list = [51.936377, 51.936377, 51.744302, 51.744302, 51.936377]\n",
    "lon_point_list = [12.621739, 13.005414, 13.005414, 12.621739, 12.621739]\n",
    "region = Polygon(zip(lon_point_list, lat_point_list))"
   ]
  },
  {
   "cell_type": "markdown",
   "metadata": {},
   "source": [
    "In this example we will retrieve weather data needed for pvlib calculations. We can do this by setting `variables` to \"pvlib\". In this case specifying the heights for which to retrieve the data is not necessary as irradiance data is only available at the surface and 10m wind speed is used per default.\n",
    "\n",
    "**<font color=red>The following code may take a while to execute!</font>**"
   ]
  },
  {
   "cell_type": "code",
   "execution_count": 7,
   "metadata": {},
   "outputs": [],
   "source": [
    "open_FRED_weather_pvlib = Weather(\n",
    "    start='2015-06-01', stop='2015-06-05', \n",
    "    locations=[], regions=[region],\n",
    "    variables=\"pvlib\",\n",
    "    **defaultdb())"
   ]
  },
  {
   "cell_type": "markdown",
   "metadata": {},
   "source": [
    "## Convert data into pvlib and windpowerlib format\n",
    "\n",
    "In order to use the weather data for your feed-in calculations using the pvlib and windpowerlib it has to be converted into the required format. This can easily be done as follows. "
   ]
  },
  {
   "cell_type": "code",
   "execution_count": 8,
   "metadata": {},
   "outputs": [],
   "source": [
    "# convert to windpowerlib dataframe\n",
    "windpowerlib_df = open_FRED_weather_windpowerlib.df(location=location, lib=\"windpowerlib\")"
   ]
  },
  {
   "cell_type": "code",
   "execution_count": 9,
   "metadata": {},
   "outputs": [],
   "source": [
    "# save dataframe as csv\n",
    "windpowerlib_df.to_csv('windpowerlib_df.csv')"
   ]
  },
  {
   "cell_type": "code",
   "execution_count": 11,
   "metadata": {},
   "outputs": [],
   "source": [
    "# select point inside region\n",
    "point = Point(12.7, 51.9)\n",
    "# convert to pvlib dataframe\n",
    "pvlib_df = open_FRED_weather_pvlib.df(location=point, lib=\"pvlib\")"
   ]
  },
  {
   "cell_type": "code",
   "execution_count": null,
   "metadata": {},
   "outputs": [],
   "source": []
  }
 ],
 "metadata": {
  "kernelspec": {
   "display_name": "Python 3",
   "language": "python",
   "name": "python3"
  },
  "language_info": {
   "codemirror_mode": {
    "name": "ipython",
    "version": 3
   },
   "file_extension": ".py",
   "mimetype": "text/x-python",
   "name": "python",
   "nbconvert_exporter": "python",
   "pygments_lexer": "ipython3",
   "version": "3.6.7"
  }
 },
 "nbformat": 4,
 "nbformat_minor": 2
}
